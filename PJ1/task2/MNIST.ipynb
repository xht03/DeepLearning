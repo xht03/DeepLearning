{
 "cells": [
  {
   "cell_type": "code",
   "execution_count": null,
   "id": "5b771f25",
   "metadata": {},
   "outputs": [],
   "source": [
    "import os\n",
    "import sys\n",
    "\n",
    "sys.path.append(os.path.abspath('..'))\n",
    "\n",
    "import numpy as np\n",
    "import matplotlib.pyplot as plt\n",
    "import idx2numpy\n",
    "import pandas as pd\n",
    "from lib.Net import *\n",
    "from lib.Func import *"
   ]
  },
  {
   "cell_type": "code",
   "execution_count": null,
   "id": "6ddb3987",
   "metadata": {},
   "outputs": [],
   "source": [
    "# (batch_size, 1, 28, 28) -> (batch_size, 2, 24, 24) -> (batch_size, 2*24*24) -> (batch_size, 64) -> (batch_size, 10)\n",
    "architecture = [\n",
    "    {\"module\": Conv2d, \"params\": {\"in_channels\": 1, \"out_channels\": 2, \"kernel_size\": 5}},\n",
    "    {\"module\": Flatten},\n",
    "    {\"module\": Mlp, \"params\": {\"input_dim\": 1152, \"output_dim\": 64, \"activation\": \"gelu\"}},\n",
    "    {\"module\": Dropout, \"params\": {\"p\": 0.2}},\n",
    "    {\"module\": Mlp, \"params\": {\"input_dim\": 64, \"output_dim\": 10, \"activation\": \"softmax\"}},\n",
    "]"
   ]
  }
 ],
 "metadata": {
  "language_info": {
   "name": "python"
  }
 },
 "nbformat": 4,
 "nbformat_minor": 5
}
