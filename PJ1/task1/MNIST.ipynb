{
 "cells": [
  {
   "cell_type": "code",
   "execution_count": 13,
   "id": "b0ecd952",
   "metadata": {},
   "outputs": [],
   "source": [
    "import os\n",
    "import sys\n",
    "\n",
    "sys.path.append(os.path.abspath('..'))\n",
    "\n",
    "import numpy as np\n",
    "import matplotlib.pyplot as plt\n",
    "import idx2numpy\n",
    "import pandas as pd\n",
    "from lib.Net import *\n",
    "from lib.Func import *"
   ]
  },
  {
   "cell_type": "code",
   "execution_count": null,
   "id": "7388beca",
   "metadata": {},
   "outputs": [],
   "source": [
    "architecture_2 = [\n",
    "    {\"module\": Flatten},\n",
    "    {\"module\": Mlp, \"params\": {\"input_dim\": 784, \"output_dim\": 256, \"activation\": \"relu\"}},\n",
    "    {\"module\": Mlp, \"params\": {\"input_dim\": 256, \"output_dim\": 64, \"activation\": \"relu\"}},\n",
    "    {\"module\": Mlp, \"params\": {\"input_dim\": 64, \"output_dim\": 10, \"activation\": \"softmax\"}},\n",
    "]"
   ]
  },
  {
   "cell_type": "code",
   "execution_count": 15,
   "id": "7d3163d6",
   "metadata": {},
   "outputs": [],
   "source": [
    "net = Net(architecture_2)"
   ]
  },
  {
   "cell_type": "code",
   "execution_count": 16,
   "id": "91a96198",
   "metadata": {},
   "outputs": [],
   "source": [
    "datapath = \"../data/MNIST/train-images.idx3-ubyte\"\n",
    "labelpath = \"../data/MNIST/train-labels.idx1-ubyte\"\n",
    "modelpath_2 = \"../model/task1/MNIST.json\""
   ]
  },
  {
   "cell_type": "code",
   "execution_count": 17,
   "id": "958ac022",
   "metadata": {},
   "outputs": [],
   "source": [
    "data = idx2numpy.convert_from_file(datapath)    # (60000, 28, 28)\n",
    "data = np.expand_dims(data, axis=1)             # 添加通道维度 -> (60000, 1, 28, 28)\n",
    "\n",
    "label = idx2numpy.convert_from_file(labelpath)\n",
    "one_hot_labels = one_hot(label, 10)"
   ]
  },
  {
   "cell_type": "code",
   "execution_count": null,
   "id": "fc0f3c21",
   "metadata": {},
   "outputs": [
    {
     "name": "stderr",
     "output_type": "stream",
     "text": [
      " 17%|█▋        | 17/100 [00:46<03:46,  2.73s/it, loss=0.159, accuracy=95.07%]\n"
     ]
    },
    {
     "ename": "KeyboardInterrupt",
     "evalue": "",
     "output_type": "error",
     "traceback": [
      "\u001b[31m---------------------------------------------------------------------------\u001b[39m",
      "\u001b[31mKeyboardInterrupt\u001b[39m                         Traceback (most recent call last)",
      "\u001b[36mCell\u001b[39m\u001b[36m \u001b[39m\u001b[32mIn[18]\u001b[39m\u001b[32m, line 6\u001b[39m\n\u001b[32m      4\u001b[39m \u001b[38;5;28;01mfor\u001b[39;00m i \u001b[38;5;129;01min\u001b[39;00m pbar:\n\u001b[32m      5\u001b[39m     data, one_hot_labels = shuffle(data, one_hot_labels)\n\u001b[32m----> \u001b[39m\u001b[32m6\u001b[39m     \u001b[43mnet\u001b[49m\u001b[43m.\u001b[49m\u001b[43mtrain\u001b[49m\u001b[43m(\u001b[49m\u001b[43mdata\u001b[49m\u001b[43m,\u001b[49m\u001b[43m \u001b[49m\u001b[43mone_hot_labels\u001b[49m\u001b[43m,\u001b[49m\u001b[43m \u001b[49m\u001b[43mbatch_size\u001b[49m\u001b[43m=\u001b[49m\u001b[32;43m512\u001b[39;49m\u001b[43m,\u001b[49m\u001b[43m \u001b[49m\u001b[43mlr\u001b[49m\u001b[43m=\u001b[49m\u001b[32;43m1\u001b[39;49m\u001b[43m,\u001b[49m\u001b[43m \u001b[49m\u001b[43mlossfunc\u001b[49m\u001b[43m=\u001b[49m\u001b[33;43m\"\u001b[39;49m\u001b[33;43mcross_entropy\u001b[39;49m\u001b[33;43m\"\u001b[39;49m\u001b[43m)\u001b[49m\n\u001b[32m      8\u001b[39m     y_hat = net.predict(data)\n\u001b[32m      9\u001b[39m     loss = cross_entropy_loss(one_hot_labels, y_hat)\n",
      "\u001b[36mFile \u001b[39m\u001b[32m~/AI/PJ1/lib/Net.py:100\u001b[39m, in \u001b[36mNet.train\u001b[39m\u001b[34m(self, X, Y, batch_size, lr, lossfunc)\u001b[39m\n\u001b[32m     98\u001b[39m \u001b[38;5;66;03m# 反向传播\u001b[39;00m\n\u001b[32m     99\u001b[39m dL = \u001b[38;5;28mself\u001b[39m.loss_derivative(Y_batch, y_hat)\n\u001b[32m--> \u001b[39m\u001b[32m100\u001b[39m \u001b[38;5;28;43mself\u001b[39;49m\u001b[43m.\u001b[49m\u001b[43mbackward\u001b[49m\u001b[43m(\u001b[49m\u001b[43moutputs\u001b[49m\u001b[43m,\u001b[49m\u001b[43m \u001b[49m\u001b[43mdL\u001b[49m\u001b[43m,\u001b[49m\u001b[43m \u001b[49m\u001b[43mlr\u001b[49m\u001b[43m)\u001b[49m\n",
      "\u001b[36mFile \u001b[39m\u001b[32m~/AI/PJ1/lib/Net.py:74\u001b[39m, in \u001b[36mNet.backward\u001b[39m\u001b[34m(self, outputs, dL, lr)\u001b[39m\n\u001b[32m     72\u001b[39m \u001b[38;5;28;01mdef\u001b[39;00m \u001b[34mbackward\u001b[39m(\u001b[38;5;28mself\u001b[39m, outputs, dL, lr):\n\u001b[32m     73\u001b[39m     \u001b[38;5;28;01mfor\u001b[39;00m i \u001b[38;5;129;01min\u001b[39;00m \u001b[38;5;28mrange\u001b[39m(\u001b[38;5;28mlen\u001b[39m(\u001b[38;5;28mself\u001b[39m.net) - \u001b[32m1\u001b[39m, -\u001b[32m1\u001b[39m, -\u001b[32m1\u001b[39m):\n\u001b[32m---> \u001b[39m\u001b[32m74\u001b[39m         dL = \u001b[38;5;28;43mself\u001b[39;49m\u001b[43m.\u001b[49m\u001b[43mnet\u001b[49m\u001b[43m[\u001b[49m\u001b[43mi\u001b[49m\u001b[43m]\u001b[49m\u001b[43m.\u001b[49m\u001b[43mbackward\u001b[49m\u001b[43m(\u001b[49m\u001b[43moutputs\u001b[49m\u001b[43m[\u001b[49m\u001b[43mi\u001b[49m\u001b[43m]\u001b[49m\u001b[43m,\u001b[49m\u001b[43m \u001b[49m\u001b[43mdL\u001b[49m\u001b[43m,\u001b[49m\u001b[43m \u001b[49m\u001b[43mlr\u001b[49m\u001b[43m)\u001b[49m\n",
      "\u001b[36mFile \u001b[39m\u001b[32m~/AI/PJ1/lib/Net.py:168\u001b[39m, in \u001b[36mMlp.backward\u001b[39m\u001b[34m(self, X, dL, lr)\u001b[39m\n\u001b[32m    166\u001b[39m Z = np.dot(X, \u001b[38;5;28mself\u001b[39m.W.T) + \u001b[38;5;28mself\u001b[39m.b\n\u001b[32m    167\u001b[39m dZ = \u001b[38;5;28mself\u001b[39m.derivative(Z, dL)\n\u001b[32m--> \u001b[39m\u001b[32m168\u001b[39m dW = \u001b[43mnp\u001b[49m\u001b[43m.\u001b[49m\u001b[43mdot\u001b[49m\u001b[43m(\u001b[49m\u001b[43mdZ\u001b[49m\u001b[43m.\u001b[49m\u001b[43mT\u001b[49m\u001b[43m,\u001b[49m\u001b[43m \u001b[49m\u001b[43mX\u001b[49m\u001b[43m)\u001b[49m / batch_size\n\u001b[32m    169\u001b[39m db = np.sum(dZ, axis=\u001b[32m0\u001b[39m) / batch_size\n\u001b[32m    170\u001b[39m dX = np.dot(dZ, \u001b[38;5;28mself\u001b[39m.W)\n",
      "\u001b[31mKeyboardInterrupt\u001b[39m: "
     ]
    }
   ],
   "source": [
    "epochs = 100\n",
    "pbar =tqdm(range(epochs))\n",
    "\n",
    "for i in pbar:\n",
    "    data, one_hot_labels = shuffle(data, one_hot_labels)\n",
    "    net.train(data, one_hot_labels, batch_size=64, lr=0.1, lossfunc=\"cross_entropy\")\n",
    "\n",
    "    y_hat = net.predict(data)\n",
    "    loss = cross_entropy_loss(one_hot_labels, y_hat)\n",
    "    y_hat = np.argmax(y_hat, axis=1)    # (60000, 10) -> (60000,)\n",
    "    accuracy = np.mean(y_hat == one_hot_labels.argmax(axis=1))\n",
    "    pbar.set_postfix({\"loss\": loss, \"accuracy\": f\"{accuracy*100:.2f}%\"})"
   ]
  },
  {
   "cell_type": "code",
   "execution_count": null,
   "id": "951d10cb",
   "metadata": {},
   "outputs": [],
   "source": [
    "#net.save_params(modelpath_2)"
   ]
  },
  {
   "cell_type": "code",
   "execution_count": null,
   "id": "35ac8f54",
   "metadata": {},
   "outputs": [],
   "source": [
    "net.load_params(modelpath_2)"
   ]
  },
  {
   "cell_type": "code",
   "execution_count": null,
   "id": "6be393dc",
   "metadata": {},
   "outputs": [
    {
     "name": "stdout",
     "output_type": "stream",
     "text": [
      "Test accuracy: 97.70%\n"
     ]
    }
   ],
   "source": [
    "# For interview\n",
    "test_datapath = \"../test/MNIST/t10k-images.idx3-ubyte\"\n",
    "test_labelpath = \"../test/MNIST/t10k-labels.idx1-ubyte\"\n",
    "\n",
    "test_data = idx2numpy.convert_from_file(test_datapath)    # (60000, 28, 28)\n",
    "test_data = np.expand_dims(test_data, axis=1)             # 添加通道维度 -> (60000, 1, 28, 28)\n",
    "\n",
    "test_label = idx2numpy.convert_from_file(test_labelpath)\n",
    "\n",
    "y_hat = net.predict(test_data)\n",
    "\n",
    "accuracy = np.mean(np.argmax(y_hat, axis=1) == test_label)\n",
    "print(f\"Test accuracy: {accuracy * 100:.2f}%\")"
   ]
  }
 ],
 "metadata": {
  "kernelspec": {
   "display_name": "base",
   "language": "python",
   "name": "python3"
  },
  "language_info": {
   "codemirror_mode": {
    "name": "ipython",
    "version": 3
   },
   "file_extension": ".py",
   "mimetype": "text/x-python",
   "name": "python",
   "nbconvert_exporter": "python",
   "pygments_lexer": "ipython3",
   "version": "3.12.9"
  }
 },
 "nbformat": 4,
 "nbformat_minor": 5
}
