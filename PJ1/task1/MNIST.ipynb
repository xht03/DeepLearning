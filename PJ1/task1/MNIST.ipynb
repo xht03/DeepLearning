{
 "cells": [
  {
   "cell_type": "code",
   "execution_count": 19,
   "id": "b0ecd952",
   "metadata": {},
   "outputs": [],
   "source": [
    "import os\n",
    "import sys\n",
    "\n",
    "sys.path.append(os.path.abspath('..'))\n",
    "\n",
    "import numpy as np\n",
    "import matplotlib.pyplot as plt\n",
    "import idx2numpy\n",
    "import pandas as pd\n",
    "from lib.Net import *\n",
    "from lib.Func import *"
   ]
  },
  {
   "cell_type": "code",
   "execution_count": 20,
   "id": "7388beca",
   "metadata": {},
   "outputs": [],
   "source": [
    "architecture_2 = [\n",
    "    {\"module\": Flatten},\n",
    "    {\"module\": Mlp, \"params\": {\"input_dim\": 784, \"output_dim\": 256, \"activation\": \"relu\"}},\n",
    "    {\"module\": Mlp, \"params\": {\"input_dim\": 256, \"output_dim\": 64, \"activation\": \"relu\"}},\n",
    "    {\"module\": Mlp, \"params\": {\"input_dim\": 64, \"output_dim\": 10, \"activation\": \"softmax\"}},\n",
    "]"
   ]
  },
  {
   "cell_type": "code",
   "execution_count": 21,
   "id": "7d3163d6",
   "metadata": {},
   "outputs": [],
   "source": [
    "net = Net(architecture_2)"
   ]
  },
  {
   "cell_type": "code",
   "execution_count": 22,
   "id": "91a96198",
   "metadata": {},
   "outputs": [],
   "source": [
    "datapath = \"../data/MNIST/train-images.idx3-ubyte\"\n",
    "labelpath = \"../data/MNIST/train-labels.idx1-ubyte\"\n",
    "modelpath_2 = \"../model/task1/MNIST.json\""
   ]
  },
  {
   "cell_type": "code",
   "execution_count": 23,
   "id": "958ac022",
   "metadata": {},
   "outputs": [],
   "source": [
    "data = idx2numpy.convert_from_file(datapath)    # (60000, 28, 28)\n",
    "data = np.expand_dims(data, axis=1)             # 添加通道维度 -> (60000, 1, 28, 28)\n",
    "\n",
    "label = idx2numpy.convert_from_file(labelpath)\n",
    "one_hot_labels = one_hot(label, 10)"
   ]
  },
  {
   "cell_type": "code",
   "execution_count": 24,
   "id": "fc0f3c21",
   "metadata": {},
   "outputs": [
    {
     "name": "stderr",
     "output_type": "stream",
     "text": [
      "100%|██████████| 20/20 [01:56<00:00,  5.81s/it, loss=0.0214, accuracy=99.82%]\n"
     ]
    }
   ],
   "source": [
    "epochs = 20\n",
    "pbar =tqdm(range(epochs))\n",
    "\n",
    "for i in pbar:\n",
    "    data, one_hot_labels = shuffle(data, one_hot_labels)\n",
    "    net.train(data, one_hot_labels, batch_size=64, lr=0.1, lossfunc=\"cross_entropy\")\n",
    "\n",
    "    y_hat = net.predict(data)\n",
    "    loss = cross_entropy_loss(one_hot_labels, y_hat)\n",
    "    y_hat = np.argmax(y_hat, axis=1)    # (60000, 10) -> (60000,)\n",
    "    accuracy = np.mean(y_hat == one_hot_labels.argmax(axis=1))\n",
    "    pbar.set_postfix({\"loss\": loss, \"accuracy\": f\"{accuracy*100:.2f}%\"})"
   ]
  },
  {
   "cell_type": "code",
   "execution_count": null,
   "id": "951d10cb",
   "metadata": {},
   "outputs": [
    {
     "name": "stdout",
     "output_type": "stream",
     "text": [
      "Model parameters saved to ../model/task1/MNIST.json\n"
     ]
    }
   ],
   "source": [
    "#net.save_params(modelpath_2)"
   ]
  },
  {
   "cell_type": "code",
   "execution_count": 16,
   "id": "35ac8f54",
   "metadata": {},
   "outputs": [
    {
     "name": "stdout",
     "output_type": "stream",
     "text": [
      "Model parameters loaded from ../model/task1/MNIST.json\n"
     ]
    }
   ],
   "source": [
    "net.load_params(modelpath_2)"
   ]
  },
  {
   "cell_type": "code",
   "execution_count": 25,
   "id": "6be3202a",
   "metadata": {},
   "outputs": [],
   "source": [
    "test_datapath = \"../test/MNIST/t10k-images.idx3-ubyte\"\n",
    "test_labelpath = \"../test/MNIST/t10k-labels.idx1-ubyte\""
   ]
  },
  {
   "cell_type": "code",
   "execution_count": 27,
   "id": "6be393dc",
   "metadata": {},
   "outputs": [
    {
     "name": "stdout",
     "output_type": "stream",
     "text": [
      "Test accuracy: 97.92%\n"
     ]
    }
   ],
   "source": [
    "test_data = idx2numpy.convert_from_file(test_datapath)    # (60000, 28, 28)\n",
    "test_data = np.expand_dims(test_data, axis=1)             # 添加通道维度 -> (60000, 1, 28, 28)\n",
    "\n",
    "test_label = idx2numpy.convert_from_file(test_labelpath)\n",
    "\n",
    "y_hat = net.predict(test_data)\n",
    "\n",
    "accuracy = np.mean(np.argmax(y_hat, axis=1) == test_label)\n",
    "print(f\"Test accuracy: {accuracy * 100:.2f}%\")"
   ]
  }
 ],
 "metadata": {
  "kernelspec": {
   "display_name": "base",
   "language": "python",
   "name": "python3"
  },
  "language_info": {
   "codemirror_mode": {
    "name": "ipython",
    "version": 3
   },
   "file_extension": ".py",
   "mimetype": "text/x-python",
   "name": "python",
   "nbconvert_exporter": "python",
   "pygments_lexer": "ipython3",
   "version": "3.12.9"
  }
 },
 "nbformat": 4,
 "nbformat_minor": 5
}
